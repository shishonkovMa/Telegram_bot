{
 "cells": [
  {
   "cell_type": "code",
   "execution_count": 1,
   "metadata": {},
   "outputs": [],
   "source": [
    "import os "
   ]
  },
  {
   "cell_type": "code",
   "execution_count": 2,
   "metadata": {},
   "outputs": [],
   "source": [
    "import telebot\n",
    "\n",
    "\n",
    "chat_id = 769526550\n",
    "token = '6161927667:AAGIj9yJf7GdlRTEyEE-yO4l_60EK_qiLQU' \n",
    "bot = telebot.TeleBot(token)"
   ]
  },
  {
   "cell_type": "code",
   "execution_count": 3,
   "metadata": {},
   "outputs": [],
   "source": [
    "# bot.send_photo(chat_id, open('/home/matu/example.png', 'rb'))"
   ]
  },
  {
   "cell_type": "code",
   "execution_count": 4,
   "metadata": {},
   "outputs": [],
   "source": [
    "@bot.message_handler(content_types=['text'])\n",
    "def get_text_messages(message):\n",
    "    if message.text.startswith('import'):\n",
    "        with open(\"code.py\", \"w\") as file:\n",
    "            file.write(message.text)\n",
    "        !python3 code.py > 'answer.txt'\n",
    "        with open(\"answer.txt\", \"r\") as file:\n",
    "            bot.send_message(chat_id, file.read().strip())\n",
    "        os.remove(os.getcwd()+'/code.py')\n",
    "        os.remove(os.getcwd()+'/answer.txt')\n",
    "    else:\n",
    "        bot.send_message(chat_id, \"Ты мне код лучше присылай. Болтать я не люблю!\")"
   ]
  },
  {
   "cell_type": "code",
   "execution_count": null,
   "metadata": {},
   "outputs": [],
   "source": [
    "bot.polling(none_stop=True, interval=0)"
   ]
  },
  {
   "cell_type": "code",
   "execution_count": null,
   "metadata": {},
   "outputs": [],
   "source": []
  }
 ],
 "metadata": {
  "kernelspec": {
   "display_name": "Python 3",
   "language": "python",
   "name": "python3"
  },
  "language_info": {
   "codemirror_mode": {
    "name": "ipython",
    "version": 3
   },
   "file_extension": ".py",
   "mimetype": "text/x-python",
   "name": "python",
   "nbconvert_exporter": "python",
   "pygments_lexer": "ipython3",
   "version": "3.8.10"
  }
 },
 "nbformat": 4,
 "nbformat_minor": 4
}
